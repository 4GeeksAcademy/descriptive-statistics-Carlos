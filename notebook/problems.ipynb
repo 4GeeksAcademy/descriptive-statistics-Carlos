{
 "cells": [
  {
   "cell_type": "markdown",
   "id": "ac622319",
   "metadata": {},
   "source": [
    "# Descriptive statistics problems"
   ]
  },
  {
   "cell_type": "markdown",
   "id": "5e0ab0d5",
   "metadata": {},
   "source": [
    "### Exercise 1\n",
    "\n",
    "We will use NumPy to obtain information to describe statistically.\n",
    "\n",
    "- Generate an array of 100 elements following a normal distribution.\n",
    "- Generate an array of 100 elements following a chi-square distribution with 3 degrees of freedom.\n",
    "- Calculate the main metrics and statistical measures that best describe the two vectors."
   ]
  },
  {
   "cell_type": "code",
   "execution_count": 1,
   "id": "34720ab6",
   "metadata": {},
   "outputs": [
    {
     "name": "stdout",
     "output_type": "stream",
     "text": [
      "Normal distribution: [ 0.07170635 -0.23620385 -0.93125871 -0.19020566  0.83878301  0.73056365\n",
      "  0.08120562  0.30338862 -0.56654025 -1.49847206 -0.70500057  1.13130963\n",
      " -1.17660189 -0.39293887  1.03573882  1.19683115 -0.23030229  0.10810723\n",
      " -0.48355409  0.91251693  1.08991332 -0.41933805  0.40815515 -0.31464638\n",
      " -0.31037403  0.85897839 -0.2044407  -0.29479074  0.62062611 -0.05866195\n",
      " -1.95032683  0.21477851 -0.03509085 -1.07077248 -0.74566295 -0.56764949\n",
      " -0.56590186  1.55622604 -0.23042392  2.03510942  0.07666251 -0.28288159\n",
      " -0.49317979 -0.41074198 -0.76519104 -0.12062155 -0.17508861 -0.14753211\n",
      "  0.69966931  0.13357231  1.68271285  0.30477738 -0.86149538  0.80531664\n",
      "  0.12519436 -0.2596372  -0.72751585 -0.79439037 -0.48893877  0.31314887\n",
      " -0.75952867 -0.61943421  0.62935742  1.51342919 -0.71550007 -0.55386429\n",
      " -0.79315     0.08492575  0.50762562  0.25240822 -1.5973184   1.00814349\n",
      " -0.88107669 -1.23123689  0.54008412  0.78952588 -0.48085524  1.13335524\n",
      " -1.41020484 -0.08973525  1.54004775 -1.49137745 -0.6595198   0.05062149\n",
      "  1.71055421  0.46089544 -1.29419003 -0.29965303 -0.69230168  0.24780713\n",
      "  1.65109821 -0.51583649 -0.24784372 -0.02706616 -0.28095667 -0.04324197\n",
      " -0.72002595 -1.52521516 -0.20671656 -1.59860871]\n",
      "Chi square: [8.90985855e-02 2.82798158e-01 7.77183723e-04 1.12555764e-03\n",
      " 4.17741161e-01 9.88557182e-02 5.54559837e+00 7.53700475e-01\n",
      " 7.59969162e-04 5.34339945e-01 2.67159611e-01 1.47114148e-02\n",
      " 3.35636429e-01 1.62011765e-03 1.35503464e-02 1.15153517e-01\n",
      " 8.59538073e-01 2.47349155e+00 1.09884814e-06 3.46006550e-01\n",
      " 1.14588073e+00 5.29239395e+00 4.38911393e-01 8.87354688e-01\n",
      " 2.48361518e+00 1.41020976e-01 3.10044812e-01 1.10876505e-01\n",
      " 5.21090928e-01 3.95323880e-02 1.85374024e-01 1.47184405e+00\n",
      " 1.85954938e+00 2.13551619e+00 4.35994101e+00 6.74798863e-01\n",
      " 5.54480050e-02 7.04148967e-01 3.47325851e+00 2.82832733e-02\n",
      " 9.73978170e-02 1.88029199e+00 2.30680728e+00 6.53976422e-01\n",
      " 2.18749233e+00 2.65993414e+00 1.38047164e+00 2.27977387e+00\n",
      " 2.77630684e-01 1.92367442e-02 6.60579647e-01 7.17355284e-01\n",
      " 2.69834032e-01 3.59149783e-01 1.21829257e-05 2.69122477e-01\n",
      " 4.40469970e-03 4.79452161e-04 1.80802218e+00 2.06561264e-03\n",
      " 1.09623970e+00 2.16890548e+00 1.16690463e-01 3.91148936e-01\n",
      " 3.95019796e-08 1.68938635e+00 1.01200439e-02 3.64164887e-01\n",
      " 3.51705904e+00 5.36110746e-01 4.05740237e+00 5.82703575e-01\n",
      " 5.29793631e-01 6.02932789e-01 5.15373983e+00 1.46929277e-01\n",
      " 2.10453278e-03 7.41957626e-01 3.47263231e-02 1.83633805e-02\n",
      " 6.62665699e-02 2.59765610e+00 8.91912902e-01 1.77671675e+00\n",
      " 3.15893837e+00 4.43632163e-02 3.16891741e-01 1.06944857e-01\n",
      " 2.55743488e-01 9.22598096e-03 1.85900711e-02 1.34337350e-02\n",
      " 6.09818990e-01 2.67701390e+00 1.06125586e-02 8.83193418e-02\n",
      " 6.58450991e-03 1.43238235e+00 1.70097839e+00 1.10346848e-02]\n"
     ]
    }
   ],
   "source": [
    "# TODO\n",
    "import numpy as np\n",
    "\n",
    "normal = np.random.normal(size=100)\n",
    "chi = np.random.chisquare(1, 100)\n",
    "\n",
    "print('Normal distribution:',normal)\n",
    "print('Chi square:', chi)"
   ]
  },
  {
   "cell_type": "code",
   "execution_count": 2,
   "id": "1f3f9d99",
   "metadata": {},
   "outputs": [
    {
     "name": "stdout",
     "output_type": "stream",
     "text": [
      "Mean normal: -0.0798595927708368\n",
      "Mean chi: 0.9385849344864513\n",
      "Mode normal: 0.07170635324548962\n",
      "Mode chi: 0.08909858548092114\n",
      "Median normal: -0.20557863179565516\n",
      "Median chi: 0.3616573351536406\n"
     ]
    }
   ],
   "source": [
    "#Mean\n",
    "print(f'Mean normal: {np.mean(normal)}')\n",
    "print(f'Mean chi: {np.mean(chi)}')\n",
    "\n",
    "#Mode\n",
    "import statistics as stat\n",
    "\n",
    "print(f'Mode normal: {stat.mode(normal)}')\n",
    "print(f'Mode chi: {stat.mode(chi)}')\n",
    "\n",
    "#Median\n",
    "print(f'Median normal: {stat.median(normal)}')\n",
    "print(f'Median chi: {stat.median(chi)}')\n",
    "\n",
    "#Standard deviation\n",
    "print(f'Standard deviation Normal: {stat.stdev(normal)}')\n",
    "print(f'Standard deviation Chi: {stat.stdev(chi)}')\n",
    "\n",
    "#Range\n",
    "print(f'Range normal: {max(normal) - min(normal)}')\n",
    "print(f'Range Chi: {max(chi) - min(chi)}')\n",
    "\n",
    "#Variance\n",
    "print(f'Variance normal: {stat.variance(normal)}')\n",
    "print(f'Variance chi: {stat.variance(chi)}')\n",
    "\n",
    "from scipy.stats import skew\n",
    "\n",
    "#Skewness\n",
    "print(f'Skewness normal: {skew(normal)}')\n",
    "print(f'Skewness chi: {skew(chi)}')"
   ]
  },
  {
   "cell_type": "markdown",
   "id": "46c70c3d",
   "metadata": {},
   "source": [
    "### Exercise 2\n",
    "\n",
    "Write a Python program to calculate the standard deviation of the following data:\n",
    "\n",
    "```py\n",
    "data = [4, 2, 5, 8, 6]\n",
    "```"
   ]
  },
  {
   "cell_type": "code",
   "execution_count": 6,
   "id": "f2d1b60d",
   "metadata": {},
   "outputs": [
    {
     "data": {
      "text/plain": [
       "2.23606797749979"
      ]
     },
     "execution_count": 6,
     "metadata": {},
     "output_type": "execute_result"
    }
   ],
   "source": [
    "import math\n",
    "\n",
    "def std(data):\n",
    "    sumatorio = 0\n",
    "    n = len(data)\n",
    "    mean = sum(data)/n\n",
    "\n",
    "    for x in data:\n",
    "        sumatorio += (x - mean)**2\n",
    "    \n",
    "    resultado = math.sqrt((1/(n-1))*sumatorio) # N-1 para hacer la desviación muestral\n",
    "    return resultado\n",
    "\n",
    "data = [4, 2, 5, 8, 6]\n",
    "\n",
    "std(data)\n"
   ]
  },
  {
   "cell_type": "code",
   "execution_count": 4,
   "id": "00ee8469",
   "metadata": {},
   "outputs": [
    {
     "name": "stdout",
     "output_type": "stream",
     "text": [
      "Numpy 2.0\n",
      "Statistics 2.23606797749979\n"
     ]
    }
   ],
   "source": [
    "import statistics as stats\n",
    "\n",
    "data = [4, 2, 5, 8, 6]\n",
    "\n",
    "print('Numpy',np.std(data)) #Desviación poblacional\n",
    "print('Statistics', stats.stdev(data)) # Desviación muestral"
   ]
  }
 ],
 "metadata": {
  "kernelspec": {
   "display_name": "Python 3",
   "language": "python",
   "name": "python3"
  },
  "language_info": {
   "codemirror_mode": {
    "name": "ipython",
    "version": 3
   },
   "file_extension": ".py",
   "mimetype": "text/x-python",
   "name": "python",
   "nbconvert_exporter": "python",
   "pygments_lexer": "ipython3",
   "version": "3.11.4"
  }
 },
 "nbformat": 4,
 "nbformat_minor": 5
}
